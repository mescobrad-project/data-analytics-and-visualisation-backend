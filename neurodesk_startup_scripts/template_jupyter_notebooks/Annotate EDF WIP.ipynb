{
 "cells": [
  {
   "cell_type": "code",
   "execution_count": 1,
   "id": "e1a12702",
   "metadata": {
    "pycharm": {
     "name": "#%%\n"
    }
   },
   "outputs": [
    {
     "name": "stderr",
     "output_type": "stream",
     "text": [
      "QStandardPaths: XDG_RUNTIME_DIR not set, defaulting to '/tmp/runtime-neuro'\n"
     ]
    }
   ],
   "source": [
    "import mne\n",
    "import matplotlib.pyplot as plt\n",
    "import matplotlib\n",
    "from matplotlib import pyplot\n",
    "import numpy as np\n",
    "%matplotlib qt5\n",
    "\n",
    "#data = mne.io.read_raw_edf('NIA test.edf', infer_types=True, preload = True)\n",
    "#data = data.notch_filter(freqs = 70)\n",
    "#fig = data.plot(n_channels=50)"
   ]
  },
  {
   "cell_type": "code",
   "execution_count": 5,
   "id": "a6fb2edd",
   "metadata": {
    "pycharm": {
     "name": "#%%\n"
    }
   },
   "outputs": [
    {
     "name": "stdout",
     "output_type": "stream",
     "text": [
      "<Annotations | 2 segments: temp1 (1), temp2 (1)>\n"
     ]
    }
   ],
   "source": [
    "print(data.annotations)\n"
   ]
  },
  {
   "cell_type": "code",
   "execution_count": 19,
   "id": "741a2639",
   "metadata": {},
   "outputs": [],
   "source": [
    "class mneClass(object):\n",
    "    def __init__(self):\n",
    "        self._data = mne.io.read_raw_edf('NIA test.edf', infer_types=True, preload = True)\n",
    "        self._data = self._data.notch_filter(freqs = 70)\n",
    "        self._fig = self._data.plot(n_channels=50)\n",
    "        #self._observers = []\n",
    "        #self.p = 10\n",
    "\n",
    "    @property\n",
    "    def data(self):\n",
    "        return self._data\n",
    "    \n",
    "    @data.setter\n",
    "    def data(self, value):\n",
    "        # self._data = value\n",
    "        #self._observers.append(\"1\")\n",
    "        print(\"THIS HAS CHANGED\")\n",
    "        self._data.save_annotations()\n",
    "\n",
    "    def save_annotations(self):\n",
    "        self._data.annotations.save(fname=\"annotation_test.csv\", overwrite=True)"
   ]
  },
  {
   "cell_type": "code",
   "execution_count": 20,
   "id": "b12f4e0b",
   "metadata": {},
   "outputs": [
    {
     "name": "stdout",
     "output_type": "stream",
     "text": [
      "Extracting EDF parameters from /neurodesktop-storage/NIA test.edf...\n",
      "EDF file detected\n",
      "Setting channel info structure...\n",
      "Creating raw.info structure...\n",
      "Reading 0 ... 6213119  =      0.000 ... 24269.996 secs...\n",
      "Setting up band-stop filter from 69 - 71 Hz\n",
      "\n",
      "FIR filter parameters\n",
      "---------------------\n",
      "Designing a one-pass, zero-phase, non-causal bandstop filter:\n",
      "- Windowed time-domain design (firwin) method\n",
      "- Hamming window with 0.0194 passband ripple and 53 dB stopband attenuation\n",
      "- Lower passband edge: 69.33\n",
      "- Lower transition bandwidth: 0.50 Hz (-6 dB cutoff frequency: 69.08 Hz)\n",
      "- Upper passband edge: 70.67 Hz\n",
      "- Upper transition bandwidth: 0.50 Hz (-6 dB cutoff frequency: 70.92 Hz)\n",
      "- Filter length: 1691 samples (6.605 sec)\n",
      "\n",
      "Opening raw-browser...\n"
     ]
    }
   ],
   "source": [
    "testa = mneClass()\n",
    "#print(testa._p)\n",
    "#print(testa._observers)\n",
    "#testa.p = 7\n",
    "#print(testa._observers)\n",
    "#testa.p = 7\n",
    "#print(testa._observers)\n",
    "#testa.p = 7\n",
    "#print(testa._observers)\n",
    "#testa.save_annotations()\n"
   ]
  },
  {
   "cell_type": "code",
   "execution_count": 24,
   "id": "83112d38",
   "metadata": {},
   "outputs": [
    {
     "name": "stdout",
     "output_type": "stream",
     "text": [
      "<Annotations | 1 segment: dwadwad (1)>\n",
      "Overwriting existing file.\n",
      "THIS HAS CHANGED\n"
     ]
    },
    {
     "ename": "AttributeError",
     "evalue": "'RawEDF' object has no attribute 'save_annotations'",
     "output_type": "error",
     "traceback": [
      "\u001b[0;31m---------------------------------------------------------------------------\u001b[0m",
      "\u001b[0;31mAttributeError\u001b[0m                            Traceback (most recent call last)",
      "\u001b[1;32m/home/user/Desktop/storage/hello_again.ipynb Cell 5'\u001b[0m in \u001b[0;36m<cell line: 4>\u001b[0;34m()\u001b[0m\n\u001b[1;32m      <a href='vscode-notebook-cell:/home/user/Desktop/storage/hello_again.ipynb#ch0000004?line=1'>2</a>\u001b[0m testa\u001b[39m.\u001b[39mdata\u001b[39m.\u001b[39mget_channel_types\n\u001b[1;32m      <a href='vscode-notebook-cell:/home/user/Desktop/storage/hello_again.ipynb#ch0000004?line=2'>3</a>\u001b[0m testa\u001b[39m.\u001b[39mdata\u001b[39m.\u001b[39mannotations\u001b[39m.\u001b[39msave(fname\u001b[39m=\u001b[39m\u001b[39m\"\u001b[39m\u001b[39mannotation_test.csv\u001b[39m\u001b[39m\"\u001b[39m, overwrite\u001b[39m=\u001b[39m\u001b[39mTrue\u001b[39;00m)\n\u001b[0;32m----> <a href='vscode-notebook-cell:/home/user/Desktop/storage/hello_again.ipynb#ch0000004?line=3'>4</a>\u001b[0m testa\u001b[39m.\u001b[39mdata \u001b[39m=\u001b[39m \u001b[39m3\u001b[39m\n",
      "\u001b[1;32m/home/user/Desktop/storage/hello_again.ipynb Cell 3'\u001b[0m in \u001b[0;36mmneClass.data\u001b[0;34m(self, value)\u001b[0m\n\u001b[1;32m     <a href='vscode-notebook-cell:/home/user/Desktop/storage/hello_again.ipynb#ch0000002?line=12'>13</a>\u001b[0m \u001b[39m@data\u001b[39m\u001b[39m.\u001b[39msetter\n\u001b[1;32m     <a href='vscode-notebook-cell:/home/user/Desktop/storage/hello_again.ipynb#ch0000002?line=13'>14</a>\u001b[0m \u001b[39mdef\u001b[39;00m \u001b[39mdata\u001b[39m(\u001b[39mself\u001b[39m, value):\n\u001b[1;32m     <a href='vscode-notebook-cell:/home/user/Desktop/storage/hello_again.ipynb#ch0000002?line=14'>15</a>\u001b[0m     \u001b[39m# self._data = value\u001b[39;00m\n\u001b[1;32m     <a href='vscode-notebook-cell:/home/user/Desktop/storage/hello_again.ipynb#ch0000002?line=15'>16</a>\u001b[0m     \u001b[39m#self._observers.append(\"1\")\u001b[39;00m\n\u001b[1;32m     <a href='vscode-notebook-cell:/home/user/Desktop/storage/hello_again.ipynb#ch0000002?line=16'>17</a>\u001b[0m     \u001b[39mprint\u001b[39m(\u001b[39m\"\u001b[39m\u001b[39mTHIS HAS CHANGED\u001b[39m\u001b[39m\"\u001b[39m)\n\u001b[0;32m---> <a href='vscode-notebook-cell:/home/user/Desktop/storage/hello_again.ipynb#ch0000002?line=17'>18</a>\u001b[0m     \u001b[39mself\u001b[39;49m\u001b[39m.\u001b[39;49m_data\u001b[39m.\u001b[39;49msave_annotations()\n",
      "\u001b[0;31mAttributeError\u001b[0m: 'RawEDF' object has no attribute 'save_annotations'"
     ]
    }
   ],
   "source": [
    "print(testa.data.annotations)\n",
    "testa.data.get_channel_types\n",
    "testa.data.annotations.save(fname=\"annotation_test.csv\", overwrite=True)\n",
    "testa.data = 3"
   ]
  }
 ],
 "metadata": {
  "interpreter": {
   "hash": "7e4e882c1c3f281c919e0362acec90b647a43131e95c8ce0bd1321581a45b56a"
  },
  "kernelspec": {
   "display_name": "Python 3.10.2 ('mne-1.0.0')",
   "language": "python",
   "name": "python3"
  },
  "language_info": {
   "codemirror_mode": {
    "name": "ipython",
    "version": 3
   },
   "file_extension": ".py",
   "mimetype": "text/x-python",
   "name": "python",
   "nbconvert_exporter": "python",
   "pygments_lexer": "ipython3",
   "version": "3.10.2"
  }
 },
 "nbformat": 4,
 "nbformat_minor": 5
}
