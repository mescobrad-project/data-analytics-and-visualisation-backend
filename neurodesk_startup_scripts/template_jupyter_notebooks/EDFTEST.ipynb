{
 "cells": [
  {
   "cell_type": "code",
   "execution_count": 1,
   "metadata": {
    "collapsed": false,
    "pycharm": {
     "is_executing": true,
     "name": "#%%\n"
    }
   },
   "outputs": [
    {
     "name": "stdout",
     "output_type": "stream",
     "text": [
      "Extracting EDF parameters from /neurodesktop-storage/NIA test.edf...\n",
      "EDF file detected\n",
      "Setting channel info structure...\n",
      "Creating raw.info structure...\n",
      "Reading 0 ... 6213119  =      0.000 ... 24269.996 secs...\n",
      "Setting up band-stop filter from 69 - 71 Hz\n",
      "\n",
      "FIR filter parameters\n",
      "---------------------\n",
      "Designing a one-pass, zero-phase, non-causal bandstop filter:\n",
      "- Windowed time-domain design (firwin) method\n",
      "- Hamming window with 0.0194 passband ripple and 53 dB stopband attenuation\n",
      "- Lower passband edge: 69.33\n",
      "- Lower transition bandwidth: 0.50 Hz (-6 dB cutoff frequency: 69.08 Hz)\n",
      "- Upper passband edge: 70.67 Hz\n",
      "- Upper transition bandwidth: 0.50 Hz (-6 dB cutoff frequency: 70.92 Hz)\n",
      "- Filter length: 1691 samples (6.605 sec)\n",
      "\n",
      "Using qt as 2D backend.\n",
      "Opening raw-browser...\n"
     ]
    },
    {
     "name": "stderr",
     "output_type": "stream",
     "text": [
      "QStandardPaths: XDG_RUNTIME_DIR not set, defaulting to '/tmp/runtime-neuro'\n",
      "libGL error: unable to load driver: swrast_dri.so\n",
      "libGL error: failed to load driver: swrast\n"
     ]
    },
    {
     "name": "stdout",
     "output_type": "stream",
     "text": [
      "Overwriting existing file.\n",
      "Overwriting existing file.\n",
      "Overwriting existing file.\n",
      "Overwriting existing file.\n",
      "Overwriting existing file.\n",
      "Overwriting existing file.\n",
      "Overwriting existing file.\n",
      "Overwriting existing file.\n",
      "Overwriting existing file.\n",
      "Overwriting existing file.\n",
      "Overwriting existing file.\n",
      "Overwriting existing file.\n",
      "Overwriting existing file.\n",
      "Overwriting existing file.\n",
      "Overwriting existing file.\n",
      "Overwriting existing file.\n",
      "Overwriting existing file.\n",
      "Overwriting existing file.\n",
      "Overwriting existing file.\n",
      "Overwriting existing file.\n",
      "Overwriting existing file.\n",
      "Overwriting existing file.\n",
      "Overwriting existing file.\n",
      "Overwriting existing file.\n",
      "Overwriting existing file.\n",
      "Overwriting existing file.\n",
      "Overwriting existing file.\n",
      "Overwriting existing file.\n",
      "Overwriting existing file.\n",
      "Overwriting existing file.\n",
      "Overwriting existing file.\n",
      "Overwriting existing file.\n",
      "Overwriting existing file.\n",
      "Overwriting existing file.\n",
      "Overwriting existing file.\n",
      "Overwriting existing file.\n",
      "Overwriting existing file.\n"
     ]
    }
   ],
   "source": [
    "import mne\n",
    "import time\n",
    "import threading \n",
    "%matplotlib qt5\n",
    "\n",
    "def autosave_annots():\n",
    "    data.annotations.save(fname=\"annotation_test.csv\", overwrite=True)\n",
    "    threading.Timer(5.0, autosave_annots).start()\n",
    "data = mne.io.read_raw_edf('NIA test.edf', infer_types=True, preload = True)\n",
    "data = data.notch_filter(freqs = 70)\n",
    "fig = data.plot(n_channels=50)\n",
    "\n",
    "autosave_annots()\n"
   ]
  },
  {
   "cell_type": "code",
   "execution_count": null,
   "metadata": {
    "collapsed": false,
    "pycharm": {
     "name": "#%%\n"
    }
   },
   "outputs": [],
   "source": [
    "# while 1:\n",
    "#     data.annotations.save(fname=\"annotation_test.csv\", overwrite=True)\n",
    "#     time.sleep(5)\n"
   ]
  },
  {
   "cell_type": "code",
   "execution_count": null,
   "id": "e351946f",
   "metadata": {
    "pycharm": {
     "name": "#%%\n"
    }
   },
   "outputs": [],
   "source": []
  }
 ],
 "metadata": {
  "interpreter": {
   "hash": "7e4e882c1c3f281c919e0362acec90b647a43131e95c8ce0bd1321581a45b56a"
  },
  "kernelspec": {
   "display_name": "Python 3.10.2 ('mne-1.0.0')",
   "language": "python",
   "name": "python3"
  },
  "language_info": {
   "codemirror_mode": {
    "name": "ipython",
    "version": 3
   },
   "file_extension": ".py",
   "mimetype": "text/x-python",
   "name": "python",
   "nbconvert_exporter": "python",
   "pygments_lexer": "ipython3",
   "version": "3.10.2"
  }
 },
 "nbformat": 4,
 "nbformat_minor": 5
}