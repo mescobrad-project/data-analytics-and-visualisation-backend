{
 "cells": [
  {
   "cell_type": "code",
   "execution_count": null,
   "outputs": [],
   "source": [
    "import mne\n",
    "import time\n",
    "import threading\n",
    "%matplotlib qt5\n",
    "\n",
    "def autosave_annots():\n",
    "    data.annotations.save(fname=\"annotation_test.csv\", overwrite=True)\n",
    "    threading.Timer(5.0, autosave_annots).start()\n",
    "\n",
    "data = mne.io.read_raw_edf('psg1 anonym2.edf', infer_types=True, preload = True)\n",
    "data = data.copy().notch_filter(freqs = 70)\n",
    "data = mne.set_bipolar_reference(data, anode=['F3-Ref'], cathode=['F4-Ref'])\n",
    "fig = data.plot(n_channels=50)\n",
    "\n",
    "autosave_annots()"
   ],
   "metadata": {
    "collapsed": false,
    "pycharm": {
     "name": "#%%\n",
     "is_executing": true
    }
   }
  },
  {
   "cell_type": "code",
   "execution_count": null,
   "outputs": [],
   "source": [],
   "metadata": {
    "collapsed": false,
    "pycharm": {
     "name": "#%%\n"
    }
   }
  }
 ],
 "metadata": {
  "interpreter": {
   "hash": "7e4e882c1c3f281c919e0362acec90b647a43131e95c8ce0bd1321581a45b56a"
  },
  "kernelspec": {
   "display_name": "Python 3.10.2 ('mne-1.0.0')",
   "language": "python",
   "name": "python3"
  },
  "language_info": {
   "codemirror_mode": {
    "name": "ipython",
    "version": 3
   },
   "file_extension": ".py",
   "mimetype": "text/x-python",
   "name": "python",
   "nbconvert_exporter": "python",
   "pygments_lexer": "ipython3",
   "version": "3.10.2"
  }
 },
 "nbformat": 4,
 "nbformat_minor": 5
}